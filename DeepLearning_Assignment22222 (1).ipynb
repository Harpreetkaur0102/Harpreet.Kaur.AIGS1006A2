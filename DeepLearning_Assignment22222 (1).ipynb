{
  "nbformat": 4,
  "nbformat_minor": 0,
  "metadata": {
    "colab": {
      "provenance": []
    },
    "kernelspec": {
      "name": "python3",
      "display_name": "Python 3"
    },
    "language_info": {
      "name": "python"
    }
  },
  "cells": [
    {
      "cell_type": "markdown",
      "source": [
        "Ques.1(a) No. Training Samples - 8143\n",
        "    No. Test Samples - 9752"
      ],
      "metadata": {
        "id": "1-vnSZG2M_hx"
      }
    },
    {
      "cell_type": "markdown",
      "source": [
        "b) "
      ],
      "metadata": {
        "id": "f07BUZSLNjoK"
      }
    },
    {
      "cell_type": "code",
      "execution_count": 1,
      "metadata": {
        "id": "veLACm4QGjla"
      },
      "outputs": [],
      "source": [
        "import tensorflow as tf\n",
        "from tensorflow.keras.layers import Dense\n",
        "import pandas as pd\n",
        "import numpy as np\n",
        "import matplotlib.pyplot as plt\n",
        "from sklearn.model_selection import train_test_split"
      ]
    },
    {
      "cell_type": "code",
      "source": [
        "testdata = pd.read_csv('testData.txt', sep=',')\n",
        "traindata = pd.read_csv('trainData.txt', sep=',')\n",
        "\n",
        "testdata.info()"
      ],
      "metadata": {
        "colab": {
          "base_uri": "https://localhost:8080/"
        },
        "id": "mk8qZCASGrdp",
        "outputId": "11dd37ee-cd80-4adc-f927-2a2d41a19f42"
      },
      "execution_count": 3,
      "outputs": [
        {
          "output_type": "stream",
          "name": "stdout",
          "text": [
            "<class 'pandas.core.frame.DataFrame'>\n",
            "Int64Index: 9752 entries, 1 to 9752\n",
            "Data columns (total 7 columns):\n",
            " #   Column         Non-Null Count  Dtype  \n",
            "---  ------         --------------  -----  \n",
            " 0   date           9752 non-null   object \n",
            " 1   Temperature    9752 non-null   float64\n",
            " 2   Humidity       9752 non-null   float64\n",
            " 3   Light          9752 non-null   float64\n",
            " 4   CO2            9752 non-null   float64\n",
            " 5   HumidityRatio  9752 non-null   float64\n",
            " 6   Occupancy      9752 non-null   int64  \n",
            "dtypes: float64(5), int64(1), object(1)\n",
            "memory usage: 609.5+ KB\n"
          ]
        }
      ]
    },
    {
      "cell_type": "code",
      "source": [
        "traindata.info()"
      ],
      "metadata": {
        "colab": {
          "base_uri": "https://localhost:8080/"
        },
        "id": "0HHdwYF2G42X",
        "outputId": "e7c0c085-b497-4556-adec-fb19cdb0ffa6"
      },
      "execution_count": 4,
      "outputs": [
        {
          "output_type": "stream",
          "name": "stdout",
          "text": [
            "<class 'pandas.core.frame.DataFrame'>\n",
            "Int64Index: 8143 entries, 1 to 8143\n",
            "Data columns (total 7 columns):\n",
            " #   Column         Non-Null Count  Dtype  \n",
            "---  ------         --------------  -----  \n",
            " 0   date           8143 non-null   object \n",
            " 1   Temperature    8143 non-null   float64\n",
            " 2   Humidity       8143 non-null   float64\n",
            " 3   Light          8143 non-null   float64\n",
            " 4   CO2            8143 non-null   float64\n",
            " 5   HumidityRatio  8143 non-null   float64\n",
            " 6   Occupancy      8143 non-null   int64  \n",
            "dtypes: float64(5), int64(1), object(1)\n",
            "memory usage: 508.9+ KB\n"
          ]
        }
      ]
    },
    {
      "cell_type": "code",
      "source": [
        "X = traindata.iloc[:5000, 1:6]\n",
        "Y = testdata.iloc[:5000, -1:]\n",
        "\n",
        "train_x, test_x, train_y, test_y = train_test_split(X, Y, test_size=0.2, random_state=0)"
      ],
      "metadata": {
        "id": "pcubBOSZHSaL"
      },
      "execution_count": 6,
      "outputs": []
    },
    {
      "cell_type": "code",
      "source": [
        "print(train_x.shape, train_y.shape, test_x.shape, test_y.shape)"
      ],
      "metadata": {
        "colab": {
          "base_uri": "https://localhost:8080/"
        },
        "id": "7sTOwia4HJB0",
        "outputId": "392ff8e2-ca1d-4de3-8f20-acd35065c7ac"
      },
      "execution_count": 7,
      "outputs": [
        {
          "output_type": "stream",
          "name": "stdout",
          "text": [
            "(4000, 5) (4000, 1) (1000, 5) (1000, 1)\n"
          ]
        }
      ]
    },
    {
      "cell_type": "code",
      "source": [
        "model = tf.keras.Sequential()\n",
        "model.add(Dense(16, activation='relu',input_shape=(5, ))) \n",
        "model.add(Dense(32, activation='softplus')) \n",
        "model.add(Dense(1, activation='sigmoid')) \n",
        "\n",
        "model.summary()"
      ],
      "metadata": {
        "colab": {
          "base_uri": "https://localhost:8080/"
        },
        "id": "ynoRQZP4Ha5L",
        "outputId": "fc020f1b-4cf3-4ad8-ff13-5a021d06bb80"
      },
      "execution_count": 8,
      "outputs": [
        {
          "output_type": "stream",
          "name": "stdout",
          "text": [
            "Model: \"sequential\"\n",
            "_________________________________________________________________\n",
            " Layer (type)                Output Shape              Param #   \n",
            "=================================================================\n",
            " dense (Dense)               (None, 16)                96        \n",
            "                                                                 \n",
            " dense_1 (Dense)             (None, 32)                544       \n",
            "                                                                 \n",
            " dense_2 (Dense)             (None, 1)                 33        \n",
            "                                                                 \n",
            "=================================================================\n",
            "Total params: 673\n",
            "Trainable params: 673\n",
            "Non-trainable params: 0\n",
            "_________________________________________________________________\n"
          ]
        }
      ]
    },
    {
      "cell_type": "code",
      "source": [
        "lossfunction = tf.keras.losses.BinaryCrossentropy()\n",
        "model.compile(optimizer= 'adam', loss= lossfunction, metrics=['accuracy'])"
      ],
      "metadata": {
        "id": "RT4j5OnOHf-J"
      },
      "execution_count": 9,
      "outputs": []
    },
    {
      "cell_type": "code",
      "source": [
        "fitmodel = model.fit(train_x, train_y, epochs=5, validation_split=0.3)"
      ],
      "metadata": {
        "colab": {
          "base_uri": "https://localhost:8080/"
        },
        "id": "BQpdNBlSHoud",
        "outputId": "c7442286-ca12-4bcb-caab-962e96936342"
      },
      "execution_count": 10,
      "outputs": [
        {
          "output_type": "stream",
          "name": "stdout",
          "text": [
            "Epoch 1/5\n",
            "88/88 [==============================] - 1s 5ms/step - loss: 5.4146 - accuracy: 0.6954 - val_loss: 0.8642 - val_accuracy: 0.5842\n",
            "Epoch 2/5\n",
            "88/88 [==============================] - 0s 3ms/step - loss: 0.6233 - accuracy: 0.7882 - val_loss: 0.5252 - val_accuracy: 0.8083\n",
            "Epoch 3/5\n",
            "88/88 [==============================] - 0s 3ms/step - loss: 0.5184 - accuracy: 0.8011 - val_loss: 0.6358 - val_accuracy: 0.8000\n",
            "Epoch 4/5\n",
            "88/88 [==============================] - 0s 3ms/step - loss: 0.5907 - accuracy: 0.7825 - val_loss: 0.8820 - val_accuracy: 0.7175\n",
            "Epoch 5/5\n",
            "88/88 [==============================] - 0s 3ms/step - loss: 0.5504 - accuracy: 0.8061 - val_loss: 0.4825 - val_accuracy: 0.7883\n"
          ]
        }
      ]
    },
    {
      "cell_type": "code",
      "source": [
        "training_loss, training_acc = model.evaluate(train_x, train_y)\n",
        "testing_loss, testing_acc = model.evaluate(test_x, test_y)"
      ],
      "metadata": {
        "colab": {
          "base_uri": "https://localhost:8080/"
        },
        "id": "qYVzyxMlHt6c",
        "outputId": "34b90e8c-17ad-4519-f6e0-b85a06b59d0c"
      },
      "execution_count": 11,
      "outputs": [
        {
          "output_type": "stream",
          "name": "stdout",
          "text": [
            "125/125 [==============================] - 0s 2ms/step - loss: 0.4802 - accuracy: 0.7900\n",
            "32/32 [==============================] - 0s 1ms/step - loss: 0.4995 - accuracy: 0.7740\n"
          ]
        }
      ]
    },
    {
      "cell_type": "code",
      "source": [
        "pred = model.predict(test_x)\n",
        "test_pred = np.argmax(pred, axis = 1)\n",
        "confusion_matrix = tf.math.confusion_matrix(labels= test_y, predictions=test_pred)\n",
        "print(confusion_matrix)"
      ],
      "metadata": {
        "colab": {
          "base_uri": "https://localhost:8080/"
        },
        "id": "7SRYitAGHx87",
        "outputId": "07315e73-2ff6-4990-fbbe-92c72817c8e8"
      },
      "execution_count": 12,
      "outputs": [
        {
          "output_type": "stream",
          "name": "stdout",
          "text": [
            "32/32 [==============================] - 0s 1ms/step\n",
            "tf.Tensor(\n",
            "[[804   0]\n",
            " [196   0]], shape=(2, 2), dtype=int32)\n"
          ]
        }
      ]
    },
    {
      "cell_type": "code",
      "source": [
        "fitModel = model.fit(train_x, train_y, epochs = 5, validation_split = 0.3)\n",
        "\n",
        "\n",
        "plt.plot(fitModel.history['accuracy'])\n",
        "plt.plot(fitModel.history['val_accuracy'])\n",
        "plt.legend(['Training accuracy', 'Validation accuracy'])\n",
        "plt.title('Trianing and Validation Accuracies')\n",
        "plt.xlabel('Epoch#')\n",
        "plt.ylabel('Accuracy')\n",
        "\n",
        "\n"
      ],
      "metadata": {
        "colab": {
          "base_uri": "https://localhost:8080/",
          "height": 486
        },
        "id": "BIcoPmbTIMIP",
        "outputId": "9a5028b2-63cd-454a-fa73-02d5ed3e5cf6"
      },
      "execution_count": 13,
      "outputs": [
        {
          "output_type": "stream",
          "name": "stdout",
          "text": [
            "Epoch 1/5\n",
            "88/88 [==============================] - 0s 3ms/step - loss: 0.4561 - accuracy: 0.8132 - val_loss: 0.7336 - val_accuracy: 0.8017\n",
            "Epoch 2/5\n",
            "88/88 [==============================] - 0s 3ms/step - loss: 0.4851 - accuracy: 0.8021 - val_loss: 0.4663 - val_accuracy: 0.7817\n",
            "Epoch 3/5\n",
            "88/88 [==============================] - 0s 3ms/step - loss: 0.5255 - accuracy: 0.8039 - val_loss: 0.9859 - val_accuracy: 0.7775\n",
            "Epoch 4/5\n",
            "88/88 [==============================] - 0s 3ms/step - loss: 0.5094 - accuracy: 0.8043 - val_loss: 0.5615 - val_accuracy: 0.8058\n",
            "Epoch 5/5\n",
            "88/88 [==============================] - 0s 3ms/step - loss: 0.6531 - accuracy: 0.7864 - val_loss: 0.3906 - val_accuracy: 0.8317\n"
          ]
        },
        {
          "output_type": "execute_result",
          "data": {
            "text/plain": [
              "Text(0, 0.5, 'Accuracy')"
            ]
          },
          "metadata": {},
          "execution_count": 13
        },
        {
          "output_type": "display_data",
          "data": {
            "text/plain": [
              "<Figure size 432x288 with 1 Axes>"
            ],
            "image/png": "[encoded data removed]"
          },
          "metadata": {
            "needs_background": "light"
          }
        }
      ]
    },
    {
      "cell_type": "code",
      "source": [
        "plt.plot(fitModel.history['loss'])\n",
        "plt.plot(fitModel.history['val_loss'])\n",
        "plt.legend(['Training loss', 'Validation loss'])\n",
        "plt.title('Trianing and Validation Losses')\n",
        "plt.xlabel('Epoch#')\n",
        "plt.ylabel('Loss')"
      ],
      "metadata": {
        "colab": {
          "base_uri": "https://localhost:8080/",
          "height": 312
        },
        "id": "DyMnyTy8JWXO",
        "outputId": "4d07bbbe-ac69-4b56-eac4-7e3490ff520e"
      },
      "execution_count": 14,
      "outputs": [
        {
          "output_type": "execute_result",
          "data": {
            "text/plain": [
              "Text(0, 0.5, 'Loss')"
            ]
          },
          "metadata": {},
          "execution_count": 14
        },
        {
          "output_type": "display_data",
          "data": {
            "text/plain": [
              "<Figure size 432x288 with 1 Axes>"
            ],
            "image/png": "[encoded data removed]"
          },
          "metadata": {
            "needs_background": "light"
          }
        }
      ]
    },
    {
      "cell_type": "markdown",
      "source": [
        "c) It is a three layer model with accuracy 79%"
      ],
      "metadata": {
        "id": "7pZQqaJzJ4TM"
      }
    },
    {
      "cell_type": "code",
      "source": [
        "test_predict = model.predict(test_x)\n",
        "test_predict_labels = np.argmax(test_predict, axis = 1)\n",
        "confusion_matrix = tf.math.confusion_matrix(labels = test_y, predictions = test_predict_labels)\n",
        "print('confusion Matrix\\n', confusion_matrix)\n"
      ],
      "metadata": {
        "colab": {
          "base_uri": "https://localhost:8080/"
        },
        "id": "7D2g9jXBIlcw",
        "outputId": "1c7e56b6-1ae0-4b8e-9675-d6bbad82e97e"
      },
      "execution_count": 15,
      "outputs": [
        {
          "output_type": "stream",
          "name": "stdout",
          "text": [
            "32/32 [==============================] - 0s 1ms/step\n",
            "confusion Matrix\n",
            " tf.Tensor(\n",
            "[[804   0]\n",
            " [196   0]], shape=(2, 2), dtype=int32)\n"
          ]
        }
      ]
    },
    {
      "cell_type": "markdown",
      "source": [
        "d) Adding one more hidden layer - 5 Input, Hidden Layer1, Hidden Layer2 and one output"
      ],
      "metadata": {
        "id": "w9PnuHMKMtSl"
      }
    },
    {
      "cell_type": "code",
      "source": [
        "model2 = tf.keras.Sequential()\n",
        "model2.add(Dense(16, activation='relu',input_shape=(5, ))) \n",
        "model2.add(Dense(32, activation='softplus'))\n",
        "model2.add(Dense(32, activation='softplus')) \n",
        "model2.add(Dense(1, activation='sigmoid')) \n",
        "\n",
        "model2.summary()"
      ],
      "metadata": {
        "colab": {
          "base_uri": "https://localhost:8080/"
        },
        "id": "gC1vVconKFEv",
        "outputId": "d4f884a6-9f27-4d90-c1e8-e6b86d046c72"
      },
      "execution_count": 16,
      "outputs": [
        {
          "output_type": "stream",
          "name": "stdout",
          "text": [
            "Model: \"sequential_1\"\n",
            "_________________________________________________________________\n",
            " Layer (type)                Output Shape              Param #   \n",
            "=================================================================\n",
            " dense_3 (Dense)             (None, 16)                96        \n",
            "                                                                 \n",
            " dense_4 (Dense)             (None, 32)                544       \n",
            "                                                                 \n",
            " dense_5 (Dense)             (None, 32)                1056      \n",
            "                                                                 \n",
            " dense_6 (Dense)             (None, 1)                 33        \n",
            "                                                                 \n",
            "=================================================================\n",
            "Total params: 1,729\n",
            "Trainable params: 1,729\n",
            "Non-trainable params: 0\n",
            "_________________________________________________________________\n"
          ]
        }
      ]
    },
    {
      "cell_type": "code",
      "source": [
        "lossfunction = tf.keras.losses.BinaryCrossentropy()\n",
        "model2.compile(optimizer= 'adam', loss= lossfunction, metrics=['accuracy'])"
      ],
      "metadata": {
        "id": "Al1yJeVrKNqh"
      },
      "execution_count": 17,
      "outputs": []
    },
    {
      "cell_type": "code",
      "source": [
        "fitmodel = model2.fit(train_x, train_y, epochs=5, validation_split=0.3)"
      ],
      "metadata": {
        "colab": {
          "base_uri": "https://localhost:8080/"
        },
        "id": "QKZbyCMlKTyI",
        "outputId": "7a886bba-f49f-425b-c7b0-52c989197c3e"
      },
      "execution_count": 18,
      "outputs": [
        {
          "output_type": "stream",
          "name": "stdout",
          "text": [
            "Epoch 1/5\n",
            "88/88 [==============================] - 1s 5ms/step - loss: 3.6014 - accuracy: 0.7300 - val_loss: 0.5672 - val_accuracy: 0.7258\n",
            "Epoch 2/5\n",
            "88/88 [==============================] - 0s 3ms/step - loss: 0.4874 - accuracy: 0.8075 - val_loss: 0.4974 - val_accuracy: 0.8108\n",
            "Epoch 3/5\n",
            "88/88 [==============================] - 0s 3ms/step - loss: 0.4753 - accuracy: 0.8004 - val_loss: 0.5550 - val_accuracy: 0.8050\n",
            "Epoch 4/5\n",
            "88/88 [==============================] - 0s 3ms/step - loss: 0.4665 - accuracy: 0.8121 - val_loss: 0.5328 - val_accuracy: 0.7733\n",
            "Epoch 5/5\n",
            "88/88 [==============================] - 0s 3ms/step - loss: 0.4416 - accuracy: 0.8143 - val_loss: 0.5422 - val_accuracy: 0.8058\n"
          ]
        }
      ]
    },
    {
      "cell_type": "code",
      "source": [
        "training_loss, training_acc = model2.evaluate(train_x, train_y)\n",
        "testing_loss, testing_acc = model2.evaluate(test_x, test_y)"
      ],
      "metadata": {
        "colab": {
          "base_uri": "https://localhost:8080/"
        },
        "id": "k4TpWusBKUCi",
        "outputId": "68cb8e5f-0af9-414e-ed4c-c89561f7769c"
      },
      "execution_count": 19,
      "outputs": [
        {
          "output_type": "stream",
          "name": "stdout",
          "text": [
            "125/125 [==============================] - 0s 2ms/step - loss: 0.5058 - accuracy: 0.8148\n",
            "32/32 [==============================] - 0s 2ms/step - loss: 0.5295 - accuracy: 0.8070\n"
          ]
        }
      ]
    },
    {
      "cell_type": "code",
      "source": [
        "pred = model2.predict(test_x)\n",
        "test_pred = np.argmax(pred, axis = 1)\n",
        "confusion_matrix = tf.math.confusion_matrix(labels= test_y, predictions=test_pred)\n",
        "print(confusion_matrix)"
      ],
      "metadata": {
        "colab": {
          "base_uri": "https://localhost:8080/"
        },
        "id": "3CdHuk4nKUPP",
        "outputId": "473e0b64-b599-44e5-a4bd-ac8e3952604f"
      },
      "execution_count": 20,
      "outputs": [
        {
          "output_type": "stream",
          "name": "stdout",
          "text": [
            "32/32 [==============================] - 0s 1ms/step\n",
            "tf.Tensor(\n",
            "[[804   0]\n",
            " [196   0]], shape=(2, 2), dtype=int32)\n"
          ]
        }
      ]
    },
    {
      "cell_type": "code",
      "source": [
        "fitModel = model2.fit(train_x, train_y, epochs = 5, validation_split = 0.3)\n",
        "\n",
        "\n",
        "plt.plot(fitModel.history['accuracy'])\n",
        "plt.plot(fitModel.history['val_accuracy'])\n",
        "plt.legend(['Training accuracy', 'Validation accuracy'])\n",
        "plt.title('Trianing and Validation Accuracies')\n",
        "plt.xlabel('Epoch#')\n",
        "plt.ylabel('Accuracy')"
      ],
      "metadata": {
        "colab": {
          "base_uri": "https://localhost:8080/",
          "height": 486
        },
        "id": "VXnEMX-pKUTN",
        "outputId": "750b41fa-c630-4844-e45c-04e0353d566f"
      },
      "execution_count": 21,
      "outputs": [
        {
          "output_type": "stream",
          "name": "stdout",
          "text": [
            "Epoch 1/5\n",
            "88/88 [==============================] - 0s 3ms/step - loss: 0.4705 - accuracy: 0.8093 - val_loss: 0.5119 - val_accuracy: 0.7958\n",
            "Epoch 2/5\n",
            "88/88 [==============================] - 0s 3ms/step - loss: 0.4312 - accuracy: 0.8232 - val_loss: 0.4589 - val_accuracy: 0.7992\n",
            "Epoch 3/5\n",
            "88/88 [==============================] - 0s 3ms/step - loss: 0.4109 - accuracy: 0.8221 - val_loss: 0.4608 - val_accuracy: 0.8042\n",
            "Epoch 4/5\n",
            "88/88 [==============================] - 0s 3ms/step - loss: 0.4252 - accuracy: 0.8157 - val_loss: 0.5419 - val_accuracy: 0.8083\n",
            "Epoch 5/5\n",
            "88/88 [==============================] - 0s 3ms/step - loss: 0.4000 - accuracy: 0.8293 - val_loss: 0.4146 - val_accuracy: 0.8150\n"
          ]
        },
        {
          "output_type": "execute_result",
          "data": {
            "text/plain": [
              "Text(0, 0.5, 'Accuracy')"
            ]
          },
          "metadata": {},
          "execution_count": 21
        },
        {
          "output_type": "display_data",
          "data": {
            "text/plain": [
              "<Figure size 432x288 with 1 Axes>"
            ],
            "image/png": "[encoded data removed]"
          },
          "metadata": {
            "needs_background": "light"
          }
        }
      ]
    },
    {
      "cell_type": "code",
      "source": [
        "plt.plot(fitModel.history['loss'])\n",
        "plt.plot(fitModel.history['val_loss'])\n",
        "plt.legend(['Training loss', 'Validation loss'])\n",
        "plt.title('Trianing and Validation Losses')\n",
        "plt.xlabel('Epoch#')\n",
        "plt.ylabel('Loss')"
      ],
      "metadata": {
        "colab": {
          "base_uri": "https://localhost:8080/",
          "height": 312
        },
        "id": "ORoFxcDEMJ4t",
        "outputId": "42ec2486-055f-4f26-ef1d-28c927c0338a"
      },
      "execution_count": 22,
      "outputs": [
        {
          "output_type": "execute_result",
          "data": {
            "text/plain": [
              "Text(0, 0.5, 'Loss')"
            ]
          },
          "metadata": {},
          "execution_count": 22
        },
        {
          "output_type": "display_data",
          "data": {
            "text/plain": [
              "<Figure size 432x288 with 1 Axes>"
            ],
            "image/png": "[encoded data removed]"
          },
          "metadata": {
            "needs_background": "light"
          }
        }
      ]
    }
  ]
}